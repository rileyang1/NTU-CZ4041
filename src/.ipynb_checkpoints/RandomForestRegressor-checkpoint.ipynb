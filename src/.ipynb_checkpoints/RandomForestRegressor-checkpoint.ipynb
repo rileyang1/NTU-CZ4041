{
 "cells": [
  {
   "cell_type": "code",
   "execution_count": 1,
   "metadata": {},
   "outputs": [
    {
     "name": "stderr",
     "output_type": "stream",
     "text": [
      "/Users/regan/opt/anaconda3/lib/python3.8/site-packages/pandas/core/computation/expressions.py:20: UserWarning: Pandas requires version '2.7.3' or newer of 'numexpr' (version '2.7.1' currently installed).\n",
      "  from pandas.core.computation.check import NUMEXPR_INSTALLED\n"
     ]
    }
   ],
   "source": [
    "from sklearn.ensemble import RandomForestRegressor\n",
    "from sklearn.impute import SimpleImputer, KNNImputer\n",
    "from sklearn.metrics import mean_squared_error\n",
    "from sklearn.pipeline import Pipeline\n",
    "import optuna\n",
    "import pandas as pd\n",
    "import numpy as np\n",
    "import matplotlib.pyplot as plt\n",
    "import datetime\n",
    "import warnings\n",
    "warnings.filterwarnings(\"ignore\")"
   ]
  },
  {
   "cell_type": "code",
   "execution_count": 2,
   "metadata": {},
   "outputs": [],
   "source": [
    "def smape(a, f):\n",
    "    return 1/len(a) * np.sum(2 * np.abs(f-a) / (np.abs(a) + np.abs(f))*100)\n",
    "\n",
    "def add_features(df):\n",
    "    df['date'] = pd.to_datetime(df['date'], infer_datetime_format=True)\n",
    "    df['year'] = df['date'].dt.year\n",
    "    df['month'] = df['date'].dt.month\n",
    "    df['dayofweek'] = df['date'].dt.dayofweek\n",
    "    df['quarter'] = df['date'].dt.quarter\n",
    "    df['is_weekend'] = (df['date'].dt.weekday >= 5).astype(int)\n",
    "    df['month_start'] = (df['date'].dt.is_month_start).astype(int)\n",
    "    df['month_end'] = (df['date'].dt.is_month_end).astype(int)\n",
    "    # Assume you have a holiday series to merge with the dataset for holiday feature\n",
    "    # df = df.merge(holidays, on='date', how='left')\n",
    "    # df['is_holiday'] = df['is_holiday'].fillna(0).astype(int)\n",
    "\n",
    "    # Aggregations\n",
    "    df['daily_avg'] = df.groupby(['item', 'store', 'dayofweek'])['sales'].transform('mean')\n",
    "    df['monthly_avg'] = df.groupby(['item', 'store', 'month'])['sales'].transform('mean')\n",
    "    df['item_month_sum'] = df.groupby(['month', 'item'])['sales'].transform('sum')\n",
    "    df['store_month_sum'] = df.groupby(['month', 'store'])['sales'].transform('sum')\n",
    "    \n",
    "    lag_365 = df[[\"date\", \"sales\", \"store\", \"item\"]]\n",
    "    lag_365[\"date\"] += pd.Timedelta(\"364 days\")\n",
    "    lag_365.columns =[\"date\", \"lag_12mo\", \"store\", \"item\"]\n",
    "    df = df.merge(lag_365, on=[\"date\", \"store\", \"item\"])\n",
    "\n",
    "    # Lagged Features\n",
    "    for lag in [1, 7, 30, 365]:\n",
    "        lag_col_name = f\"lag_{lag}d\"\n",
    "        df[lag_col_name] = df.groupby(['item', 'store'])['lag_12mo'].shift(periods=lag)\n",
    "\n",
    "    # Rolling window features\n",
    "    df['rolling_mean_7'] = df.groupby(['item', 'store'])['lag_12mo'].transform(lambda x: x.rolling(window=7).mean())\n",
    "    df['rolling_mean_30'] = df.groupby(['item', 'store'])['lag_12mo'].transform(lambda x: x.rolling(window=30).mean())\n",
    "    df['rolling_std_7'] = df.groupby(['item', 'store'])['lag_12mo'].transform(lambda x: x.rolling(window=7).std())\n",
    "    df['rolling_std_30'] = df.groupby(['item', 'store'])['lag_12mo'].transform(lambda x: x.rolling(window=30).std())\n",
    "    return df\n",
    "\n",
    "def add_features2(df, important_features):\n",
    "    df['date'] = pd.to_datetime(df['date'], infer_datetime_format=True)\n",
    "    df['year'] = df['date'].dt.year\n",
    "    df['month'] = df['date'].dt.month\n",
    "    df['dayofweek'] = df['date'].dt.dayofweek\n",
    "    df['quarter'] = df['date'].dt.quarter\n",
    "    df['is_weekend'] = (df['date'].dt.weekday >= 5).astype(int)\n",
    "    df['month_start'] = (df['date'].dt.is_month_start).astype(int)\n",
    "    df['month_end'] = (df['date'].dt.is_month_end).astype(int)\n",
    "    # Assume you have a holiday series to merge with the dataset for holiday feature\n",
    "    # df = df.merge(holidays, on='date', how='left')\n",
    "    # df['is_holiday'] = df['is_holiday'].fillna(0).astype(int)\n",
    "\n",
    "    # Aggregations\n",
    "    df['daily_avg'] = df.groupby(['item', 'store', 'dayofweek'])['sales'].transform('mean')\n",
    "    df['monthly_avg'] = df.groupby(['item', 'store', 'month'])['sales'].transform('mean')\n",
    "    df['item_month_sum'] = df.groupby(['month', 'item'])['sales'].transform('sum')\n",
    "    df['store_month_sum'] = df.groupby(['month', 'store'])['sales'].transform('sum')\n",
    "    \n",
    "    lag_365 = df[[\"date\", \"sales\", \"store\", \"item\"]]\n",
    "    lag_365[\"date\"] += pd.Timedelta(\"364 days\")\n",
    "    lag_365.columns =[\"date\", \"lag_12mo\", \"store\", \"item\"]\n",
    "    df = df.merge(lag_365, on=[\"date\", \"store\", \"item\"])\n",
    "\n",
    "    # Lagged Features\n",
    "    for lag in [1, 7, 30, 365]:\n",
    "        lag_col_name = f\"lag_{lag}d\"\n",
    "        df[lag_col_name] = df.groupby(['item', 'store'])['lag_12mo'].shift(periods=lag)\n",
    "\n",
    "    # Rolling window features\n",
    "    df['rolling_mean_7'] = df.groupby(['item', 'store'])['lag_12mo'].transform(lambda x: x.rolling(window=7).mean())\n",
    "    df['rolling_mean_30'] = df.groupby(['item', 'store'])['lag_12mo'].transform(lambda x: x.rolling(window=30).mean())\n",
    "    df['rolling_std_7'] = df.groupby(['item', 'store'])['lag_12mo'].transform(lambda x: x.rolling(window=7).std())\n",
    "    df['rolling_std_30'] = df.groupby(['item', 'store'])['lag_12mo'].transform(lambda x: x.rolling(window=30).std())\n",
    "\n",
    "    \n",
    "    df_filtered = df[['date', 'store', 'item', 'sales']+ important_features]\n",
    "    \n",
    "    return df_filtered\n",
    "\n",
    "def objective_rf(trial, x_train, y_train):\n",
    "    # Define the hyperparameters to tune\n",
    "    n_estimators = trial.suggest_int('n_estimators', 1000, 1001)\n",
    "    max_depth = trial.suggest_int('max_depth', 10, 20)\n",
    "    min_samples_split = trial.suggest_int('min_samples_split', 2, 14)\n",
    "    min_samples_leaf = trial.suggest_int('min_samples_leaf', 1, 14)\n",
    "    max_features = trial.suggest_categorical('max_features', ['auto', 'sqrt', 'log2'])\n",
    "    \n",
    "    # Choose the imputation strategy\n",
    "    imputer_strategy = trial.suggest_categorical('imputer_strategy', ['mean', 'median', 'most_frequent', 'constant'])\n",
    "\n",
    "    # Create the imputer based on the chosen strategy\n",
    "    if imputer_strategy == 'constant':\n",
    "        imputer = SimpleImputer(strategy=imputer_strategy, fill_value=0)\n",
    "    else:\n",
    "        imputer = SimpleImputer(strategy=imputer_strategy)\n",
    "\n",
    "    # Create the random forest model with the suggested parameters\n",
    "    rf_model = RandomForestRegressor(\n",
    "        n_estimators=n_estimators,\n",
    "        max_depth=max_depth,\n",
    "        min_samples_split=min_samples_split,\n",
    "        min_samples_leaf=min_samples_leaf,\n",
    "        max_features=max_features,\n",
    "        random_state=42\n",
    "    )\n",
    "\n",
    "    # Create a pipeline with the imputer and random forest regressor\n",
    "    pipeline = Pipeline(steps=[('imputer', imputer), ('regressor', rf_model)])\n",
    "    \n",
    "    # Initialize the TimeSeriesSplit object\n",
    "    tscv = TimeSeriesSplit(n_splits=5)\n",
    "    smape_scores = []\n",
    "\n",
    "    for train_index, val_index in tscv.split(x_train):\n",
    "        fold_x_train, fold_x_val = x_train.iloc[train_index], x_train.iloc[val_index]\n",
    "        fold_y_train, fold_y_val = y_train.iloc[train_index], y_train.iloc[val_index]\n",
    "        \n",
    "        # Fit the model on the training fold\n",
    "        pipeline.fit(fold_x_train, fold_y_train)\n",
    "        \n",
    "        # Predict on the validation fold\n",
    "        fold_preds = pipeline.predict(fold_x_val)\n",
    "        \n",
    "        # Calculate and store the SMAPE score for the validation fold\n",
    "        fold_smape = smape(fold_y_val, fold_preds)\n",
    "        smape_scores.append(fold_smape)\n",
    "\n",
    "    # Calculate the average SMAPE across all folds\n",
    "    average_smape = np.mean(smape_scores)\n",
    "\n",
    "    return average_smape"
   ]
  },
  {
   "cell_type": "markdown",
   "metadata": {},
   "source": [
    "### Base Model"
   ]
  },
  {
   "cell_type": "code",
   "execution_count": 3,
   "metadata": {},
   "outputs": [
    {
     "name": "stdout",
     "output_type": "stream",
     "text": [
      "(685000, 24)\n",
      "(46000, 24)\n"
     ]
    }
   ],
   "source": [
    "train = pd.read_csv('demand-forecasting-kernels-only/train.csv')\n",
    "test = pd.read_csv('demand-forecasting-kernels-only/test.csv')\n",
    "\n",
    "df_train = add_features(train)\n",
    "# split train and validation sets\n",
    "df_test = df_train[df_train[\"date\"] >= \"2017-10-01\"]\n",
    "df_train = df_train[df_train[\"date\"] < \"2017-10-01\"]\n",
    "\n",
    "print(df_train.shape)\n",
    "print(df_test.shape)\n",
    "\n",
    "x_train = df_train.drop(columns=[\"sales\", \"date\"])\n",
    "y_train = df_train[\"sales\"]\n",
    "x_test = df_test.drop(columns=[\"sales\", \"date\"])\n",
    "y_test = df_test[\"sales\"]"
   ]
  },
  {
   "cell_type": "code",
   "execution_count": 4,
   "metadata": {},
   "outputs": [],
   "source": [
    "best_params = {'n_estimators': 1000, \n",
    "               'max_depth': 10, \n",
    "               'min_samples_split': 4, \n",
    "               'min_samples_leaf': 2, \n",
    "               'max_features': 'log2', \n",
    "               }\n",
    "\n",
    "best_imputer = SimpleImputer(strategy='most_frequent')\n",
    "\n",
    "final_pipeline = Pipeline(steps=[('imputer', best_imputer), \n",
    "                                 ('regressor', RandomForestRegressor(**best_params, random_state=42))])\n",
    "\n",
    "final_pipeline.fit(x_train, y_train)\n",
    "\n",
    "# Predict on the validation set with the best model\n",
    "best_preds_train = final_pipeline.predict(x_train)\n",
    "best_preds = final_pipeline.predict(x_test)"
   ]
  },
  {
   "cell_type": "code",
   "execution_count": 5,
   "metadata": {},
   "outputs": [
    {
     "name": "stdout",
     "output_type": "stream",
     "text": [
      "TRAIN SMAPE for base XGBoost is: 12.64%\n",
      "TEST SMAPE for base XGBoost is: 12.69%\n"
     ]
    }
   ],
   "source": [
    "preds_train = y_train.values\n",
    "preds_true = df_test.sales.values\n",
    "\n",
    "rfr_smape_train = smape(preds_train, best_preds_train)\n",
    "rfr_smape = smape(preds_true, best_preds)\n",
    "\n",
    "print(f\"TRAIN SMAPE for base XGBoost is: {rfr_smape_train:.2f}%\")\n",
    "print(f\"TEST SMAPE for base XGBoost is: {rfr_smape:.2f}%\")"
   ]
  },
  {
   "cell_type": "markdown",
   "metadata": {},
   "source": [
    "### Feature Selection"
   ]
  },
  {
   "cell_type": "code",
   "execution_count": 6,
   "metadata": {},
   "outputs": [
    {
     "data": {
      "image/png": "[encoded data removed]",
      "text/plain": [
       "<Figure size 720x432 with 1 Axes>"
      ]
     },
     "metadata": {
      "needs_background": "light"
     },
     "output_type": "display_data"
    }
   ],
   "source": [
    "# Access the trained Random Forest model from the pipeline\n",
    "rf_model = final_pipeline.named_steps['regressor']\n",
    "\n",
    "# Get feature importances\n",
    "importances = rf_model.feature_importances_\n",
    "\n",
    "# Get the feature names from your x_train DataFrame\n",
    "feature_names = x_train.columns\n",
    "\n",
    "# Sort the feature importances in descending order and match them with their names\n",
    "indices = np.argsort(importances)[::-1]\n",
    "sorted_feature_names = [feature_names[i] for i in indices]\n",
    "\n",
    "plt.figure(figsize=(10, 6))\n",
    "plt.title(\"Feature Importances in Random Forest Regressor\")\n",
    "plt.barh(range(len(importances)), importances[indices], align='center', color='skyblue')\n",
    "plt.yticks(range(len(importances)), sorted_feature_names)\n",
    "plt.gca().invert_yaxis()  # Invert y-axis to have the most important feature on top\n",
    "plt.xlabel(\"Importance\")\n",
    "plt.ylabel(\"Feature\")\n",
    "plt.tight_layout()\n",
    "plt.show()"
   ]
  },
  {
   "cell_type": "code",
   "execution_count": 7,
   "metadata": {},
   "outputs": [],
   "source": [
    "def select_important_features(model, feature_names, importance_threshold=0.01):\n",
    "    \"\"\"\n",
    "    Selects features based on importance scores from a trained model.\n",
    "\n",
    "    Args:\n",
    "    model (sklearn.ensemble): Trained Random Forest model.\n",
    "    feature_names (list): List of feature names.\n",
    "    importance_threshold (float): Threshold for feature importance.\n",
    "\n",
    "    Returns:\n",
    "    List of selected feature names.\n",
    "    \"\"\"\n",
    "    \n",
    "    # Get feature importances from the model\n",
    "    importances = model.feature_importances_\n",
    "    \n",
    "    # Set the median importance as the threshold\n",
    "    importance_threshold = np.median(importances)\n",
    "\n",
    "    # Create a mask for features meeting the importance threshold\n",
    "    important_feature_mask = importances >= importance_threshold\n",
    "\n",
    "    # Select features using the mask\n",
    "    selected_features = feature_names[important_feature_mask]\n",
    "\n",
    "    return selected_features"
   ]
  },
  {
   "cell_type": "code",
   "execution_count": 8,
   "metadata": {},
   "outputs": [
    {
     "name": "stdout",
     "output_type": "stream",
     "text": [
      "Index(['daily_avg', 'monthly_avg', 'item_month_sum', 'lag_12mo', 'lag_1d',\n",
      "       'lag_7d', 'lag_30d', 'lag_365d', 'rolling_mean_7', 'rolling_mean_30',\n",
      "       'rolling_std_30'],\n",
      "      dtype='object')\n"
     ]
    }
   ],
   "source": [
    "important_features = select_important_features(rf_model, feature_names)\n",
    "print(important_features)"
   ]
  },
  {
   "cell_type": "markdown",
   "metadata": {},
   "source": [
    "### Hyperparameter Tuning"
   ]
  },
  {
   "cell_type": "code",
   "execution_count": 17,
   "metadata": {},
   "outputs": [],
   "source": [
    "important_features = ['daily_avg', 'monthly_avg', 'item_month_sum', 'lag_12mo', 'lag_1d',\n",
    "       'lag_7d', 'lag_30d', 'lag_365d', 'rolling_mean_7', 'rolling_mean_30',\n",
    "       'rolling_std_30']"
   ]
  },
  {
   "cell_type": "code",
   "execution_count": 18,
   "metadata": {},
   "outputs": [
    {
     "name": "stdout",
     "output_type": "stream",
     "text": [
      "(731000, 15)\n",
      "(46000, 15)\n"
     ]
    }
   ],
   "source": [
    "train = pd.read_csv('demand-forecasting-kernels-only/train.csv')\n",
    "test = pd.read_csv('demand-forecasting-kernels-only/test.csv')\n",
    "\n",
    "df_train = add_features2(train, important_features)\n",
    "\n",
    "print(df_train.shape)\n",
    "print(df_test.shape)\n",
    "\n",
    "x_train = df_train.drop(columns=[\"sales\", \"date\"])\n",
    "y_train = df_train[\"sales\"]"
   ]
  },
  {
   "cell_type": "code",
   "execution_count": 19,
   "metadata": {},
   "outputs": [],
   "source": [
    "# # Create a study object and specify the direction is 'minimize'.\n",
    "# study = optuna.create_study(direction='minimize')\n",
    "\n",
    "# # Optimize the study, the objective function is passed in as the first argument.\n",
    "# study.optimize(lambda trial: objective_rf(trial, x_train, y_train), n_trials=50)  # You can increase n_trials for a more thorough search\n",
    "\n",
    "# # Best hyperparameters and imputation strategy\n",
    "# best_params = study.best_params\n",
    "# best_imputer_strategy = best_params.pop('imputer_strategy')\n",
    "# print('Best hyperparameters:', best_params)\n",
    "# print('Best imputer strategy:', best_imputer_strategy)\n",
    "\n",
    "# # Depending on the best imputer strategy, create the best imputer\n",
    "# if best_imputer_strategy == 'knn':\n",
    "#     best_imputer = KNNImputer(n_neighbors=5)\n",
    "# else:\n",
    "#     best_imputer = SimpleImputer(strategy=best_imputer_strategy)"
   ]
  },
  {
   "cell_type": "markdown",
   "metadata": {},
   "source": [
    "best_params = {'n_estimators': 1000, \n",
    "               'max_depth': 17, \n",
    "               'min_samples_split': 8, \n",
    "               'min_samples_leaf': 2, \n",
    "               'max_features': 'log2', \n",
    "               }\n",
    "\n",
    "best_imputer = SimpleImputer(strategy='constant')\n",
    "\n",
    "important_features = ['daily_avg', 'monthly_avg', 'item_month_sum', 'lag_12mo', 'lag_1d',\n",
    "       'lag_7d', 'lag_30d', 'lag_365d', 'rolling_mean_7', 'rolling_mean_30',\n",
    "       'rolling_std_30']"
   ]
  },
  {
   "cell_type": "markdown",
   "metadata": {},
   "source": [
    "### Tuned and Model with Select Features"
   ]
  },
  {
   "cell_type": "code",
   "execution_count": 20,
   "metadata": {},
   "outputs": [],
   "source": [
    "best_params = {'n_estimators': 1000, \n",
    "               'max_depth': 17, \n",
    "               'min_samples_split': 8, \n",
    "               'min_samples_leaf': 2, \n",
    "               'max_features': 'log2', \n",
    "               }\n",
    "\n",
    "important_features = ['daily_avg', 'monthly_avg', 'item_month_sum', 'lag_12mo', 'lag_1d',\n",
    "       'lag_7d', 'lag_30d', 'lag_365d', 'rolling_mean_7', 'rolling_mean_30',\n",
    "       'rolling_std_30']"
   ]
  },
  {
   "cell_type": "code",
   "execution_count": 21,
   "metadata": {},
   "outputs": [
    {
     "name": "stdout",
     "output_type": "stream",
     "text": [
      "(685000, 15)\n",
      "(46000, 15)\n"
     ]
    }
   ],
   "source": [
    "train = pd.read_csv('demand-forecasting-kernels-only/train.csv')\n",
    "test = pd.read_csv('demand-forecasting-kernels-only/test.csv')\n",
    "\n",
    "df_train = add_features2(train, important_features)\n",
    "# split train and validation sets\n",
    "df_test = df_train[df_train[\"date\"] >= \"2017-10-01\"]\n",
    "df_train = df_train[df_train[\"date\"] < \"2017-10-01\"]\n",
    "\n",
    "print(df_train.shape)\n",
    "print(df_test.shape)\n",
    "\n",
    "x_train = df_train.drop(columns=[\"sales\", \"date\"])\n",
    "y_train = df_train[\"sales\"]\n",
    "x_test = df_test.drop(columns=[\"sales\", \"date\"])\n",
    "y_test = df_test[\"sales\"]"
   ]
  },
  {
   "cell_type": "code",
   "execution_count": 22,
   "metadata": {},
   "outputs": [],
   "source": [
    "best_params = {'n_estimators': 1000, \n",
    "               'max_depth': 17, \n",
    "               'min_samples_split': 8, \n",
    "               'min_samples_leaf': 2, \n",
    "               'max_features': 'log2', \n",
    "               }\n",
    "\n",
    "best_imputer = SimpleImputer(strategy='constant')\n",
    "\n",
    "final_pipeline = Pipeline(steps=[('imputer', best_imputer), \n",
    "                                 ('regressor', RandomForestRegressor(**best_params, random_state=42))])\n",
    "\n",
    "final_pipeline.fit(x_train, y_train)\n",
    "\n",
    "# Predict on the validation set with the best model\n",
    "best_preds = final_pipeline.predict(x_test)"
   ]
  },
  {
   "cell_type": "code",
   "execution_count": 23,
   "metadata": {},
   "outputs": [
    {
     "data": {
      "image/png": "[encoded data removed]",
      "text/plain": [
       "<Figure size 720x432 with 1 Axes>"
      ]
     },
     "metadata": {
      "needs_background": "light"
     },
     "output_type": "display_data"
    }
   ],
   "source": [
    "# Access the trained Random Forest model from the pipeline\n",
    "rf_model = final_pipeline.named_steps['regressor']\n",
    "\n",
    "# Get feature importances\n",
    "importances = rf_model.feature_importances_\n",
    "\n",
    "# Get the feature names from your x_train DataFrame\n",
    "feature_names = x_train.columns\n",
    "\n",
    "# Sort the feature importances in descending order and match them with their names\n",
    "indices = np.argsort(importances)[::-1]\n",
    "sorted_feature_names = [feature_names[i] for i in indices]\n",
    "\n",
    "plt.figure(figsize=(10, 6))\n",
    "plt.title(\"Feature Importances in Random Forest Regressor\")\n",
    "plt.barh(range(len(importances)), importances[indices], align='center', color='skyblue')\n",
    "plt.yticks(range(len(importances)), sorted_feature_names)\n",
    "plt.gca().invert_yaxis()  # Invert y-axis to have the most important feature on top\n",
    "plt.xlabel(\"Importance\")\n",
    "plt.ylabel(\"Feature\")\n",
    "plt.tight_layout()\n",
    "plt.show()"
   ]
  },
  {
   "cell_type": "code",
   "execution_count": 27,
   "metadata": {},
   "outputs": [],
   "source": [
    "preds_train = y_train.values\n",
    "preds_true = df_test.sales.values\n",
    "\n",
    "rfr_smape_train = smape(preds_train, best_preds_train)\n",
    "rfr_smape = smape(preds_true, best_preds)"
   ]
  },
  {
   "cell_type": "code",
   "execution_count": 32,
   "metadata": {
    "scrolled": true
   },
   "outputs": [
    {
     "name": "stdout",
     "output_type": "stream",
     "text": [
      "TRAIN SMAPE for RFR is: 12.60%\n",
      "TEST SMAPE for RFR is: 12.52%\n"
     ]
    }
   ],
   "source": [
    "print(f\"TRAIN SMAPE for RFR is: {rfr_smape_train:.2f}%\")\n",
    "print(f\"TEST SMAPE for RFR is: {rfr_smape:.2f}%\")"
   ]
  }
 ],
 "metadata": {
  "kernelspec": {
   "display_name": "Python 3 (ipykernel)",
   "language": "python",
   "name": "python3"
  },
  "language_info": {
   "codemirror_mode": {
    "name": "ipython",
    "version": 3
   },
   "file_extension": ".py",
   "mimetype": "text/x-python",
   "name": "python",
   "nbconvert_exporter": "python",
   "pygments_lexer": "ipython3",
   "version": "3.9.1"
  }
 },
 "nbformat": 4,
 "nbformat_minor": 4
}
